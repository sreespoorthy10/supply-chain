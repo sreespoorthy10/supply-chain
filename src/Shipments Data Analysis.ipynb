{
 "cells": [
  {
   "cell_type": "markdown",
   "metadata": {
    "application/vnd.databricks.v1+cell": {
     "cellMetadata": {},
     "inputWidgets": {},
     "nuid": "c4f97c76-0c16-419f-a54d-9321f2cef29c",
     "showTitle": false,
     "tableResultSettingsMap": {},
     "title": ""
    }
   },
   "source": [
    "\n",
    "#Ingest data"
   ]
  },
  {
   "cell_type": "code",
   "execution_count": 0,
   "metadata": {
    "application/vnd.databricks.v1+cell": {
     "cellMetadata": {
      "byteLimit": 2048000,
      "implicitDf": true,
      "rowLimit": 10000
     },
     "inputWidgets": {},
     "nuid": "48d9f43f-39e7-4115-8043-934fc7447a13",
     "showTitle": false,
     "tableResultSettingsMap": {},
     "title": ""
    }
   },
   "outputs": [],
   "source": [
    "%sql\n",
    "\n",
    "USE CATALOG supply_chain;\n",
    "CREATE SCHEMA IF NOT EXISTS analytics;\n",
    "USE SCHEMA analytics;"
   ]
  },
  {
   "cell_type": "code",
   "execution_count": 0,
   "metadata": {
    "application/vnd.databricks.v1+cell": {
     "cellMetadata": {
      "byteLimit": 2048000,
      "rowLimit": 10000
     },
     "inputWidgets": {},
     "nuid": "f3501dc0-b889-4f2c-8fb7-264849f51a2a",
     "showTitle": true,
     "tableResultSettingsMap": {},
     "title": "Read raw data"
    }
   },
   "outputs": [],
   "source": [
    "shipment_df = spark.read.option(\"header\", \"true\").option(\"inferschema\", \"true\").csv(\"/Volumes/supply_chain/analytics/raw/supply_chain_data.csv\")\n",
    "shipment_df.createOrReplaceTempView(\"uvw_src_shipments\")"
   ]
  },
  {
   "cell_type": "code",
   "execution_count": 0,
   "metadata": {
    "application/vnd.databricks.v1+cell": {
     "cellMetadata": {
      "byteLimit": 2048000,
      "implicitDf": true,
      "rowLimit": 10000
     },
     "inputWidgets": {},
     "nuid": "92340b80-5001-421b-b383-dacf53a8f814",
     "showTitle": true,
     "tableResultSettingsMap": {},
     "title": "Create Target Table"
    }
   },
   "outputs": [],
   "source": [
    "%sql\n",
    "\n",
    "CREATE OR REPLACE TABLE shipments (\n",
    "  product_type STRING\n",
    "  , sku STRING\n",
    "  , price FLOAT\n",
    "  , availability INT\n",
    "  , number_of_products_sold INT\n",
    "  , revenue_generated FLOAT\n",
    "  , customer_demographics STRING\n",
    "  , stock_levels INT\n",
    "  , lead_times INT\n",
    "  , order_quantities INT\n",
    "  , shipping_times INT\n",
    "  , shipping_carriers STRING\n",
    "  , shipping_costs FLOAT\n",
    "  , supplier_name STRING\n",
    "  , location STRING\n",
    "  , lead_time INT\n",
    "  , production_volumes INT\n",
    "  , manufacturing_lead_time INT\n",
    "  , manufacturing_costs FLOAT\n",
    "  , inspection_results STRING\n",
    "  , defect_rates FLOAT\n",
    "  , transportation_modes STRING\n",
    "  , routes STRING\n",
    "  , costs FLOAT\n",
    ")"
   ]
  },
  {
   "cell_type": "code",
   "execution_count": 0,
   "metadata": {
    "application/vnd.databricks.v1+cell": {
     "cellMetadata": {
      "byteLimit": 2048000,
      "implicitDf": true,
      "rowLimit": 10000
     },
     "inputWidgets": {},
     "nuid": "95b8614f-3a1d-4f5a-b55c-aad776f552dc",
     "showTitle": true,
     "tableResultSettingsMap": {},
     "title": "Insert data into target table"
    }
   },
   "outputs": [],
   "source": [
    "%sql\n",
    "\n",
    "INSERT INTO shipments\n",
    "SELECT \n",
    "  *\n",
    "FROM uvw_src_shipments"
   ]
  },
  {
   "cell_type": "markdown",
   "metadata": {
    "application/vnd.databricks.v1+cell": {
     "cellMetadata": {},
     "inputWidgets": {},
     "nuid": "fa02f62e-91be-44c1-aedd-a239024cfb75",
     "showTitle": false,
     "tableResultSettingsMap": {},
     "title": ""
    }
   },
   "source": [
    "\n",
    "#1. Total quantity shipped for each product category"
   ]
  },
  {
   "cell_type": "code",
   "execution_count": 0,
   "metadata": {
    "application/vnd.databricks.v1+cell": {
     "cellMetadata": {
      "byteLimit": 2048000,
      "implicitDf": true,
      "rowLimit": 10000
     },
     "inputWidgets": {},
     "nuid": "73f19dfb-8b1a-4d68-9ace-1253d9ab8210",
     "showTitle": false,
     "tableResultSettingsMap": {},
     "title": ""
    }
   },
   "outputs": [],
   "source": [
    "%sql\n",
    "\n",
    "SELECT\n",
    "  product_type\n",
    "  , SUM(order_quantities)      AS total_quantity_shipped\n",
    "FROM shipments\n",
    "GROUP BY product_type"
   ]
  },
  {
   "cell_type": "markdown",
   "metadata": {
    "application/vnd.databricks.v1+cell": {
     "cellMetadata": {},
     "inputWidgets": {},
     "nuid": "ad3d5673-50e4-4536-b2bc-f0184ba05654",
     "showTitle": false,
     "tableResultSettingsMap": {},
     "title": ""
    }
   },
   "source": [
    "\n",
    "#2. Warehouses with most efficient shipping processes based on average shipping times"
   ]
  },
  {
   "cell_type": "code",
   "execution_count": 0,
   "metadata": {
    "application/vnd.databricks.v1+cell": {
     "cellMetadata": {
      "byteLimit": 2048000,
      "implicitDf": true,
      "rowLimit": 10000
     },
     "inputWidgets": {},
     "nuid": "03bc117d-b6d6-4afb-a7fc-ac3f96cb0961",
     "showTitle": false,
     "tableResultSettingsMap": {},
     "title": ""
    }
   },
   "outputs": [],
   "source": [
    "%sql\n",
    "\n",
    "SELECT\n",
    "  location    AS Warehouse\n",
    "  , ROUND(AVG(shipping_times), 2)               AS average_shipping_times\n",
    "  , RANK() OVER (ORDER BY AVG(shipping_times) DESC) AS rank\n",
    "FROM shipments\n",
    "GROUP BY location"
   ]
  },
  {
   "cell_type": "markdown",
   "metadata": {
    "application/vnd.databricks.v1+cell": {
     "cellMetadata": {},
     "inputWidgets": {},
     "nuid": "efbe83f6-6a40-4b1a-a98b-c032b6150ad9",
     "showTitle": false,
     "tableResultSettingsMap": {},
     "title": ""
    }
   },
   "source": [
    "\n",
    "#3. Total value of shipments for each supplier"
   ]
  },
  {
   "cell_type": "code",
   "execution_count": 0,
   "metadata": {
    "application/vnd.databricks.v1+cell": {
     "cellMetadata": {
      "byteLimit": 2048000,
      "implicitDf": true,
      "rowLimit": 10000
     },
     "inputWidgets": {},
     "nuid": "f926a544-96f2-49f0-aee4-25a051103893",
     "showTitle": false,
     "tableResultSettingsMap": {},
     "title": ""
    }
   },
   "outputs": [],
   "source": [
    "%sql\n",
    "\n",
    "SELECT\n",
    "  supplier_name\n",
    "  , ROUND(SUM(price*order_quantities), 2)     AS total_value_of_shipments\n",
    "FROM shipments\n",
    "GROUP BY supplier_name\n",
    "ORDER BY supplier_name"
   ]
  },
  {
   "cell_type": "markdown",
   "metadata": {
    "application/vnd.databricks.v1+cell": {
     "cellMetadata": {},
     "inputWidgets": {},
     "nuid": "8e86b5e5-d4fe-4d3c-a82b-7f81765f16a9",
     "showTitle": false,
     "tableResultSettingsMap": {},
     "title": ""
    }
   },
   "source": [
    "\n",
    "#4. Top 5 products with highest total shipment quantities"
   ]
  },
  {
   "cell_type": "code",
   "execution_count": 0,
   "metadata": {
    "application/vnd.databricks.v1+cell": {
     "cellMetadata": {
      "byteLimit": 2048000,
      "implicitDf": true,
      "rowLimit": 10000
     },
     "inputWidgets": {},
     "nuid": "2172e55e-cc30-445c-8a6f-a74fe404feef",
     "showTitle": false,
     "tableResultSettingsMap": {},
     "title": ""
    }
   },
   "outputs": [],
   "source": [
    "%sql\n",
    "\n",
    "SELECT\n",
    "  sku                                                     AS product\n",
    "  , SUM(order_quantities)                                 AS total_quantity_shipped\n",
    "  , RANK() OVER(ORDER BY SUM(order_quantities) DESC)      AS rank\n",
    "FROM shipments\n",
    "GROUP BY sku\n",
    "LIMIT 5"
   ]
  },
  {
   "cell_type": "markdown",
   "metadata": {
    "application/vnd.databricks.v1+cell": {
     "cellMetadata": {},
     "inputWidgets": {},
     "nuid": "8e87fa2e-18fb-431f-afca-f37f6ed6baf2",
     "showTitle": false,
     "tableResultSettingsMap": {},
     "title": ""
    }
   },
   "source": [
    "\n",
    "# Distribution of shipment values for each product category"
   ]
  },
  {
   "cell_type": "code",
   "execution_count": 0,
   "metadata": {
    "application/vnd.databricks.v1+cell": {
     "cellMetadata": {
      "byteLimit": 2048000,
      "implicitDf": true,
      "rowLimit": 10000
     },
     "inputWidgets": {},
     "nuid": "60345933-6ae0-44c5-a03e-b84361c58ec4",
     "showTitle": false,
     "tableResultSettingsMap": {},
     "title": ""
    }
   },
   "outputs": [],
   "source": [
    "%sql\n",
    "\n",
    "SELECT\n",
    "  product_type\n",
    "  , ROUND(SUM(price*order_quantities), 2)     AS total_value_of_shipments\n",
    "FROM shipments\n",
    "GROUP BY product_type\n",
    "ORDER BY total_value_of_shipments DESC"
   ]
  }
 ],
 "metadata": {
  "application/vnd.databricks.v1+notebook": {
   "computePreferences": null,
   "dashboards": [],
   "environmentMetadata": {
    "base_environment": "",
    "environment_version": "2"
   },
   "language": "python",
   "notebookMetadata": {
    "mostRecentlyExecutedCommandWithImplicitDF": {
     "commandId": 6093975231309106,
     "dataframes": [
      "_sqldf"
     ]
    },
    "pythonIndentUnit": 4
   },
   "notebookName": "Shipments Data Analysis",
   "widgets": {}
  },
  "language_info": {
   "name": "python"
  }
 },
 "nbformat": 4,
 "nbformat_minor": 0
}
